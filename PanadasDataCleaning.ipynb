{
  "nbformat": 4,
  "nbformat_minor": 0,
  "metadata": {
    "colab": {
      "name": "PanadasDataCleaning",
      "provenance": [],
      "collapsed_sections": [],
      "authorship_tag": "ABX9TyNhVpZfzhlM+2WvMlFx0sVZ",
      "include_colab_link": true
    },
    "kernelspec": {
      "name": "python3",
      "display_name": "Python 3"
    },
    "language_info": {
      "name": "python"
    }
  },
  "cells": [
    {
      "cell_type": "markdown",
      "metadata": {
        "id": "view-in-github",
        "colab_type": "text"
      },
      "source": [
        "<a href=\"https://colab.research.google.com/github/mkaustubh/pandas-data-cleaning/blob/master/PanadasDataCleaning.ipynb\" target=\"_parent\"><img src=\"https://colab.research.google.com/assets/colab-badge.svg\" alt=\"Open In Colab\"/></a>"
      ]
    },
    {
      "cell_type": "code",
      "metadata": {
        "id": "BP_mvoi5X0-P"
      },
      "source": [
        "!git clone https://github.com/mkaustubh/pandas-data-cleaning.git"
      ],
      "execution_count": null,
      "outputs": []
    },
    {
      "cell_type": "markdown",
      "metadata": {
        "id": "9AnpQsedtLdG"
      },
      "source": [
        "**This notebook is an exercise in the [Data Cleaning](https://www.kaggle.com/learn/data-cleaning) course.  You can reference the tutorial at [this link](https://www.kaggle.com/alexisbcook/handling-missing-values).**\n",
        "\n",
        "___\n"
      ]
    },
    {
      "cell_type": "markdown",
      "metadata": {
        "id": "5RY3ysOHVlVW"
      },
      "source": [
        "# 1) Take a first look at the data\n",
        "\n",
        "Run the next code cell to load in the libraries and dataset you'll use to complete the exercise."
      ]
    },
    {
      "cell_type": "code",
      "metadata": {
        "id": "Wg0jUdzbV2zk"
      },
      "source": [
        "import numpy as np\n",
        "import pandas as pd\n",
        "\n",
        "sf_permits = pd.read_csv('pandas-data-cleaning/archive/Building_Permits.csv')\n",
        "sf_permits.head()"
      ],
      "execution_count": null,
      "outputs": []
    },
    {
      "cell_type": "markdown",
      "metadata": {
        "id": "p0bLtazhcnIr"
      },
      "source": [
        "# 2) How many missing data points do we have?\n",
        "\n",
        "What percentage of the values in the dataset are missing?  Your answer should be a number between 0 and 100.  (If 1/4 of the values in the dataset are missing, the answer is 25.)"
      ]
    },
    {
      "cell_type": "code",
      "metadata": {
        "id": "RYtLbofzcoCh"
      },
      "source": [
        "percent_missing = sf_permits.isnull().sum().sum()/sf_permits.size*100\n",
        "percent_missing"
      ],
      "execution_count": null,
      "outputs": []
    },
    {
      "cell_type": "markdown",
      "metadata": {
        "id": "4K7Q75IdfI5f"
      },
      "source": [
        "# 4) Drop missing values: rows\n",
        "\n",
        "If you removed all of the rows of `sf_permits` with missing values, how many rows are left?\n",
        "\n",
        "**Note**: Do not change the value of `sf_permits` when checking this.  "
      ]
    },
    {
      "cell_type": "code",
      "metadata": {
        "id": "EA1YwM3HfPu2"
      },
      "source": [
        "sf_permits.dropna()"
      ],
      "execution_count": null,
      "outputs": []
    },
    {
      "cell_type": "markdown",
      "metadata": {
        "id": "nNDv9a5Lfflg"
      },
      "source": [
        "# 5) Drop missing values: columns\n",
        "\n",
        "Now try removing all the columns with empty values.  \n",
        "- Create a new DataFrame called `sf_permits_with_na_dropped` that has all of the columns with empty values removed.  \n",
        "- How many columns were removed from the original `sf_permits` DataFrame? Use this number to set the value of the `dropped_columns` variable below."
      ]
    },
    {
      "cell_type": "code",
      "metadata": {
        "id": "O9wYhsLBfgwg"
      },
      "source": [
        "sf_permits_with_na_dropped = sf_permits.dropna(axis=1)\n",
        "dropped_columns = sf_permits.shape[1]-sf_permits_with_na_dropped.shape[1]\n",
        "dropped_columns"
      ],
      "execution_count": null,
      "outputs": []
    },
    {
      "cell_type": "markdown",
      "metadata": {
        "id": "riWEQMjfgQf7"
      },
      "source": [
        "# 6) Fill in missing values automatically\n",
        "\n",
        "Try replacing all the NaN's in the `sf_permits` data with the one that comes directly after it and then replacing any remaining NaN's with 0.  Set the result to a new DataFrame `sf_permits_with_na_imputed`."
      ]
    },
    {
      "cell_type": "code",
      "metadata": {
        "id": "9BWjpqN0gTmX"
      },
      "source": [
        "sf_permits_with_na_imputed = sf_permits.fillna(method='bfill', axis=0).fillna(0)\n",
        "sf_permits_with_na_imputed"
      ],
      "execution_count": null,
      "outputs": []
    }
  ]
}